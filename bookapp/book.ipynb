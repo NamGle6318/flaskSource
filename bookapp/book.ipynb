{
 "cells": [
  {
   "cell_type": "code",
   "execution_count": 1,
   "id": "b27befad",
   "metadata": {},
   "outputs": [],
   "source": [
    "from book.models import Book\n",
    "from book import db, create_app\n",
    "\n",
    "app = create_app()"
   ]
  },
  {
   "cell_type": "code",
   "execution_count": 8,
   "id": "c55d42c0",
   "metadata": {},
   "outputs": [],
   "source": [
    "# insert\n",
    "with app.app_context():\n",
    "    for i in range(1, 300):\n",
    "        book = Book(\n",
    "            title=\"%d가지 지식\" % (i),\n",
    "            author=\"홍길동 %d\" % (i),\n",
    "            description=\"%d초동안 읽을 수 있는 책\" % (i),\n",
    "            \n",
    "            price=i * 2500,\n",
    "        )\n",
    "        db.session.add(book)\n",
    "        db.session.commit()  # commit을 해줘야 반영됨"
   ]
  }
 ],
 "metadata": {
  "kernelspec": {
   "display_name": "venv",
   "language": "python",
   "name": "python3"
  },
  "language_info": {
   "codemirror_mode": {
    "name": "ipython",
    "version": 3
   },
   "file_extension": ".py",
   "mimetype": "text/x-python",
   "name": "python",
   "nbconvert_exporter": "python",
   "pygments_lexer": "ipython3",
   "version": "3.13.3"
  }
 },
 "nbformat": 4,
 "nbformat_minor": 5
}
