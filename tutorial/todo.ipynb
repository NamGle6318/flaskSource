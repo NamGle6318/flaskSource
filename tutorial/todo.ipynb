{
 "cells": [
  {
   "cell_type": "code",
   "execution_count": 4,
   "id": "9f1ec85d",
   "metadata": {},
   "outputs": [],
   "source": [
    "from todo.models import Todo\n",
    "from datetime import datetime\n",
    "from todo import db, create_app\n",
    "\n",
    "app = create_app()"
   ]
  },
  {
   "cell_type": "markdown",
   "id": "3835f742",
   "metadata": {},
   "source": [
    "## Python으로 CRUD 하기!"
   ]
  },
  {
   "cell_type": "code",
   "execution_count": null,
   "id": "3a12a989",
   "metadata": {},
   "outputs": [],
   "source": [
    "\n",
    "# insert\n",
    "with app.app_context():\n",
    "    todo = Todo(title='flask 공부', description='flask 공부', created=datetime.now())\n",
    "    db.session.add(todo)\n",
    "    db.session.commit()"
   ]
  }
 ],
 "metadata": {
  "kernelspec": {
   "display_name": "venv",
   "language": "python",
   "name": "python3"
  },
  "language_info": {
   "codemirror_mode": {
    "name": "ipython",
    "version": 3
   },
   "file_extension": ".py",
   "mimetype": "text/x-python",
   "name": "python",
   "nbconvert_exporter": "python",
   "pygments_lexer": "ipython3",
   "version": "3.13.3"
  }
 },
 "nbformat": 4,
 "nbformat_minor": 5
}
