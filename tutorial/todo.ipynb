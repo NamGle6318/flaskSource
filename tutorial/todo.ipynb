{
 "cells": [
  {
   "cell_type": "code",
   "execution_count": 1,
   "id": "9f1ec85d",
   "metadata": {},
   "outputs": [],
   "source": [
    "from todo.models import Todo\n",
    "from datetime import datetime\n",
    "from todo import db, create_app\n",
    "\n",
    "app = create_app()"
   ]
  },
  {
   "cell_type": "markdown",
   "id": "3835f742",
   "metadata": {},
   "source": [
    "## Python으로 CRUD 하기!"
   ]
  },
  {
   "cell_type": "code",
   "execution_count": null,
   "id": "3a12a989",
   "metadata": {},
   "outputs": [],
   "source": [
    "\n",
    "# insert\n",
    "with app.app_context():\n",
    "    todo = Todo(title='flask 공부', description='flask 공부', created=datetime.now())\n",
    "    db.session.add(todo)\n",
    "    db.session.commit() # commit을 해줘야 반영됨"
   ]
  },
  {
   "cell_type": "code",
   "execution_count": null,
   "id": "2a5d1b96",
   "metadata": {},
   "outputs": [
    {
     "name": "stdout",
     "output_type": "stream",
     "text": [
      "<generator object <genexpr> at 0x0000026002D30940>\n"
     ]
    }
   ],
   "source": [
    "# read\n",
    "with app.app_context():\n",
    "    todos = Todo.query.all()\n",
    "    for todo in todos:\n",
    "        print(todo)\n",
    "    "
   ]
  },
  {
   "cell_type": "code",
   "execution_count": 11,
   "id": "7e23d380",
   "metadata": {},
   "outputs": [
    {
     "name": "stdout",
     "output_type": "stream",
     "text": [
      "SELECT todo.id AS todo_id, todo.title AS todo_title, todo.description AS todo_description, todo.created AS todo_created, todo.completed AS todo_completed, todo.important AS todo_important \n",
      "FROM todo \n",
      "WHERE todo.id = ?\n"
     ]
    }
   ],
   "source": [
    "# read\n",
    "with app.app_context():\n",
    "    todo = Todo.query.filter(Todo.id == 1)\n",
    "    print(todo)"
   ]
  },
  {
   "cell_type": "code",
   "execution_count": 16,
   "id": "90d14a35",
   "metadata": {},
   "outputs": [
    {
     "name": "stdout",
     "output_type": "stream",
     "text": [
      "<Todo 1>\n"
     ]
    },
    {
     "name": "stderr",
     "output_type": "stream",
     "text": [
      "C:\\Users\\soldesk\\AppData\\Local\\Temp\\ipykernel_14960\\1263204411.py:3: LegacyAPIWarning: The Query.get() method is considered legacy as of the 1.x series of SQLAlchemy and becomes a legacy construct in 2.0. The method is now available as Session.get() (deprecated since: 2.0) (Background on SQLAlchemy 2.0 at: https://sqlalche.me/e/b8d9)\n",
      "  todo = Todo.query.get(1)\n"
     ]
    }
   ],
   "source": [
    "# read\n",
    "with app.app_context():\n",
    "    todo = Todo.query.get(1)\n",
    "    print(todo)"
   ]
  },
  {
   "cell_type": "code",
   "execution_count": 17,
   "id": "7bfe6f53",
   "metadata": {},
   "outputs": [
    {
     "name": "stdout",
     "output_type": "stream",
     "text": [
      "<Todo 1>\n"
     ]
    }
   ],
   "source": [
    "# read\n",
    "with app.app_context():\n",
    "    todo = db.session.get(Todo, 1)\n",
    "    print(todo)"
   ]
  },
  {
   "cell_type": "code",
   "execution_count": 18,
   "id": "22017269",
   "metadata": {},
   "outputs": [],
   "source": [
    "# update\n",
    "with app.app_context():\n",
    "    todo = db.session.get(Todo, 1)\n",
    "\n",
    "    # 존재하는 지 확인 후 변경\n",
    "    if todo:\n",
    "        todo.title = \"강아지 산책\"\n",
    "        db.session.commit()"
   ]
  },
  {
   "cell_type": "code",
   "execution_count": 19,
   "id": "08fbcc37",
   "metadata": {},
   "outputs": [],
   "source": [
    "# delete\n",
    "with app.app_context():\n",
    "    todo = db.session.get(Todo, 10)\n",
    "\n",
    "    # 존재하는 지 확인 후 변경\n",
    "    if todo:\n",
    "        db.session.delete(todo)\n",
    "        db.session.commit()"
   ]
  }
 ],
 "metadata": {
  "kernelspec": {
   "display_name": "venv",
   "language": "python",
   "name": "python3"
  },
  "language_info": {
   "codemirror_mode": {
    "name": "ipython",
    "version": 3
   },
   "file_extension": ".py",
   "mimetype": "text/x-python",
   "name": "python",
   "nbconvert_exporter": "python",
   "pygments_lexer": "ipython3",
   "version": "3.13.3"
  }
 },
 "nbformat": 4,
 "nbformat_minor": 5
}
